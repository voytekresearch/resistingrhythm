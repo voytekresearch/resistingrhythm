{
 "cells": [
  {
   "cell_type": "markdown",
   "metadata": {},
   "source": [
    "# Basic tests for the HHH neuron"
   ]
  },
  {
   "cell_type": "code",
   "execution_count": null,
   "metadata": {},
   "outputs": [],
   "source": [
    "from bokeh.plotting import figure\n",
    "from bokeh.io import show, output_notebook\n",
    "from bokeh.layouts import column, row\n",
    "from bokeh.models import Range1d\n",
    "output_notebook()\n",
    "\n",
    "import numpy as np\n",
    "\n",
    "from resistingrhythm.util import poisson_impulse\n",
    "from resistingrhythm.util import poisson_oscillation\n",
    "from resistingrhythm.util import current_pulse\n",
    "from resistingrhythm.util import load_spikes\n",
    "\n",
    "from resistingrhythm.neurons import HHH"
   ]
  },
  {
   "cell_type": "markdown",
   "metadata": {},
   "source": [
    "# Shared params"
   ]
  },
  {
   "cell_type": "code",
   "execution_count": null,
   "metadata": {},
   "outputs": [],
   "source": [
    "time = 20\n",
    "N = 1\n",
    "\n",
    "V_e = 0\n",
    "V_i = -80e-3\n",
    "\n",
    "tau_e = 5e-3\n",
    "tau_i = 10e-3\n",
    "\n",
    "tau_h = 4\n",
    "\n",
    "w = (5e-6, 50e-6)"
   ]
  },
  {
   "cell_type": "markdown",
   "metadata": {},
   "source": [
    "# Generate some input...."
   ]
  },
  {
   "cell_type": "code",
   "execution_count": null,
   "metadata": {},
   "outputs": [],
   "source": [
    "# stim_number = 1000\n",
    "# stim_onset = 0.0\n",
    "# stim_offset = time\n",
    "# stim_rate = 6\n",
    "# dt = 1e-5\n",
    "# seed_stim = 7525\n",
    "# ns_in, ts_in = poisson_impulse(\n",
    "#         time,\n",
    "#         stim_onset,\n",
    "#         stim_offset - stim_onset,\n",
    "#         stim_rate,\n",
    "#         n=stim_number,\n",
    "#         dt=dt,\n",
    "#         seed=seed_stim)"
   ]
  },
  {
   "cell_type": "code",
   "execution_count": null,
   "metadata": {},
   "outputs": [],
   "source": [
    "# Or load some input\n",
    "osc_name = \"/Users/type/Code/resistingrhythm/data/osc160.csv\"\n",
    "stim_name = \"/Users/type/Code/resistingrhythm/data/stim3.csv\"\n",
    "\n",
    "ns_osc, ts_osc = load_spikes(osc_name)\n",
    "ns_in, ts_in = load_spikes(stim_name)"
   ]
  },
  {
   "cell_type": "markdown",
   "metadata": {},
   "source": [
    "# Generate external currents"
   ]
  },
  {
   "cell_type": "code",
   "execution_count": null,
   "metadata": {},
   "outputs": [],
   "source": [
    "# external_current = current_pulse(time, t_onset=2, t_offset=2.5, I=0.5e-6)"
   ]
  },
  {
   "cell_type": "markdown",
   "metadata": {},
   "source": [
    "# Run HHH"
   ]
  },
  {
   "cell_type": "code",
   "execution_count": null,
   "metadata": {},
   "outputs": [],
   "source": [
    "results = HHH(\n",
    "    time,\n",
    "    ns_in,\n",
    "    ts_in,\n",
    "    ns_osc,\n",
    "    ts_osc,\n",
    "#     np.asarray([]), # stim\n",
    "#     np.asarray([]),\n",
    "#     np.asarray([]), # osc\n",
    "#     np.asarray([]),\n",
    "    external_current=None,\n",
    "    N=N,\n",
    "    Ca_target=0.03,\n",
    "    tau_h=tau_h,\n",
    "    w_in=w,\n",
    "    tau_in=tau_e,\n",
    "    V_in=V_e,\n",
    "    bias_in=0.0e-9,\n",
    "    w_osc=w,\n",
    "    tau_osc=tau_e,\n",
    "    V_osc=V_e,\n",
    "    sigma=0,\n",
    "    homeostasis=True,\n",
    "    time_step=1e-5,\n",
    "    seed_value=42\n",
    ")"
   ]
  },
  {
   "cell_type": "code",
   "execution_count": null,
   "metadata": {},
   "outputs": [],
   "source": [
    "results.keys()\n",
    "results['v_m'].std()"
   ]
  },
  {
   "cell_type": "code",
   "execution_count": null,
   "metadata": {},
   "outputs": [],
   "source": [
    "p = figure(plot_width=400, plot_height=200)\n",
    "p.circle(ts_osc, ns_i, color=\"grey\")\n",
    "p.xaxis.axis_label = 'Time (s)'\n",
    "p.yaxis.axis_label = 'N'\n",
    "p.x_range = Range1d(0, time)\n",
    "p.xgrid.grid_line_color = None\n",
    "p.ygrid.grid_line_color = None\n",
    "show(p)"
   ]
  },
  {
   "cell_type": "code",
   "execution_count": null,
   "metadata": {},
   "outputs": [],
   "source": [
    "p = figure(plot_width=400, plot_height=200)\n",
    "p.circle(results['ts'], results['ns'], color=\"black\")\n",
    "p.xaxis.axis_label = 'Time (s)'\n",
    "p.yaxis.axis_label = 'N'\n",
    "p.x_range = Range1d(0, time)\n",
    "p.xgrid.grid_line_color = None\n",
    "p.ygrid.grid_line_color = None\n",
    "show(p)"
   ]
  },
  {
   "cell_type": "code",
   "execution_count": null,
   "metadata": {
    "scrolled": true
   },
   "outputs": [],
   "source": [
    "p = figure(plot_width=400, plot_height=200)\n",
    "for n in range(N):\n",
    "    v = results['v_m'][n, :]*1e3\n",
    "    p.line(x=results['times'], y=v, color=\"black\", alpha=0.5)\n",
    "    print(results['v_m'][n, :].std()*1e3)\n",
    "p.xaxis.axis_label = 'Time (s)'\n",
    "p.yaxis.axis_label = 'V_m (mvolts)'\n",
    "p.xgrid.grid_line_color = None\n",
    "p.ygrid.grid_line_color = None\n",
    "p.x_range = Range1d(19, 20)\n",
    "show(p)"
   ]
  },
  {
   "cell_type": "code",
   "execution_count": null,
   "metadata": {},
   "outputs": [],
   "source": [
    "p = figure(plot_width=400, plot_height=200)\n",
    "for n in range(N):\n",
    "    v = results['g_total'][n, :]\n",
    "    p.line(x=results['times'], y=v, color=\"black\", alpha=0.5)\n",
    "p.xaxis.axis_label = 'Time (s)'\n",
    "p.yaxis.axis_label = 'g_total (volts)'\n",
    "p.xgrid.grid_line_color = None\n",
    "p.ygrid.grid_line_color = None\n",
    "p.x_range = Range1d(0, time)\n",
    "show(p)"
   ]
  },
  {
   "cell_type": "code",
   "execution_count": null,
   "metadata": {},
   "outputs": [],
   "source": [
    "p = figure(plot_width=400, plot_height=200)\n",
    "for n in range(N):\n",
    "    v = results['I_osc'][n, :]\n",
    "    p.line(x=results['times'], y=v, color=\"black\", alpha=0.5)\n",
    "p.xaxis.axis_label = 'Time (s)'\n",
    "p.yaxis.axis_label = 'I_osc (amps)'\n",
    "p.xgrid.grid_line_color = None\n",
    "p.ygrid.grid_line_color = None\n",
    "p.x_range = Range1d(19.5, time)\n",
    "show(p) "
   ]
  },
  {
   "cell_type": "code",
   "execution_count": null,
   "metadata": {},
   "outputs": [],
   "source": [
    "p = figure(plot_width=400, plot_height=200)\n",
    "for n in range(N):\n",
    "    v = results['calcium'][n, :]\n",
    "    p.line(x=results['times'], y=v, color=\"black\", alpha=0.5)\n",
    "p.xaxis.axis_label = 'Time (s)'\n",
    "p.yaxis.axis_label = 'Ca (moles)'\n",
    "p.xgrid.grid_line_color = None\n",
    "p.ygrid.grid_line_color = None\n",
    "p.x_range = Range1d(0, time)\n",
    "show(p)"
   ]
  },
  {
   "cell_type": "code",
   "execution_count": null,
   "metadata": {},
   "outputs": [],
   "source": [
    "p = figure(plot_width=400, plot_height=200)\n",
    "for n in range(N):\n",
    "    p.line(x=results['times'], y=results['g_KCa'][n, :], \n",
    "           color=\"blue\", alpha=1, legend=\"KCa\")\n",
    "    p.line(x=results['times'], y=results['g_K'][n, :], \n",
    "           color=\"blue\", alpha=0.5, legend=\"K\")\n",
    "    p.line(x=results['times'], y=results['g_Na'][n, :], \n",
    "           color=\"red\", alpha=1, legend=\"Na\")\n",
    "    p.line(x=results['times'], y=results['g_Ca'][n, :], \n",
    "           color=\"purple\", alpha=1, legend=\"Ca\")\n",
    "p.xaxis.axis_label = 'Time (s)'\n",
    "p.yaxis.axis_label = 'g (siemens)'\n",
    "p.xgrid.grid_line_color = None\n",
    "p.ygrid.grid_line_color = None\n",
    "p.x_range = Range1d(19, 20)\n",
    "show(p)"
   ]
  },
  {
   "cell_type": "code",
   "execution_count": null,
   "metadata": {},
   "outputs": [],
   "source": []
  },
  {
   "cell_type": "code",
   "execution_count": null,
   "metadata": {},
   "outputs": [],
   "source": []
  }
 ],
 "metadata": {
  "kernelspec": {
   "display_name": "Python 2",
   "language": "python",
   "name": "python2"
  },
  "language_info": {
   "codemirror_mode": {
    "name": "ipython",
    "version": 2
   },
   "file_extension": ".py",
   "mimetype": "text/x-python",
   "name": "python",
   "nbconvert_exporter": "python",
   "pygments_lexer": "ipython2",
   "version": "2.7.13"
  }
 },
 "nbformat": 4,
 "nbformat_minor": 2
}
