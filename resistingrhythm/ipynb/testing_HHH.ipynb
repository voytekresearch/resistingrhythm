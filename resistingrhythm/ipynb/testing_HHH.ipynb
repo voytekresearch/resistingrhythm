{
 "cells": [
  {
   "cell_type": "markdown",
   "metadata": {},
   "source": [
    "# Basic tests for the HHH neuron"
   ]
  },
  {
   "cell_type": "code",
   "execution_count": 1,
   "metadata": {},
   "outputs": [
    {
     "name": "stderr",
     "output_type": "stream",
     "text": [
      "/Users/type/anaconda/envs/py2/lib/python2.7/site-packages/brian2/core/variables.py:174: FutureWarning: Conversion of the second argument of issubdtype from `float` to `np.floating` is deprecated. In future, it will be treated as `np.float64 == np.dtype(float).type`.\n",
      "  return np.issubdtype(np.bool, self.dtype)\n"
     ]
    }
   ],
   "source": [
    "# from bokeh.plotting import figure\n",
    "# from bokeh.io import show, output_notebook\n",
    "# from bokeh.layouts import column, row\n",
    "# from bokeh.models import Range1d\n",
    "# output_notebook()\n",
    "\n",
    "import matplotlib.pyplot as plt\n",
    "plt.rcParams.update({'font.size': 50})\n",
    "\n",
    "%matplotlib inline\n",
    "\n",
    "import seaborn as sns\n",
    "sns.set(font_scale=3)\n",
    "sns.set_style('ticks')\n",
    "\n",
    "import numpy as np\n",
    "\n",
    "from resistingrhythm.util import poisson_impulse\n",
    "from resistingrhythm.util import poisson_oscillation\n",
    "from resistingrhythm.util import current_pulse\n",
    "from resistingrhythm.util import load_spikes\n",
    "\n",
    "from resistingrhythm.neurons import HHH"
   ]
  },
  {
   "cell_type": "markdown",
   "metadata": {},
   "source": [
    "# Shared params"
   ]
  },
  {
   "cell_type": "code",
   "execution_count": 7,
   "metadata": {
    "collapsed": true
   },
   "outputs": [],
   "source": [
    "time = 4\n",
    "N = 1\n",
    "\n",
    "V_e = 0\n",
    "V_i = -80e-3\n",
    "\n",
    "tau_e = 5e-3\n",
    "tau_i = 10e-3\n",
    "\n",
    "tau_h = 1\n",
    "\n",
    "w = (5e-6, 50e-6)"
   ]
  },
  {
   "cell_type": "markdown",
   "metadata": {},
   "source": [
    "# Generate some spiking input...."
   ]
  },
  {
   "cell_type": "code",
   "execution_count": 8,
   "metadata": {
    "collapsed": true
   },
   "outputs": [],
   "source": [
    "# Or load some input\n",
    "osc_name = \"/Users/type/Code/resistingrhythm/data/osc130.csv\"\n",
    "stim_name = \"/Users/type/Code/resistingrhythm/data/stim3.csv\"\n",
    "\n",
    "# ns_osc, ts_osc = load_spikes(osc_name)\n",
    "# ns_in, ts_in = load_spikes(stim_name)\n",
    "\n",
    "ns_in, ts_in = np.asarray([]), np.asarray([])\n",
    "ns_osc, ts_osc = np.asarray([]), np.asarray([])"
   ]
  },
  {
   "cell_type": "markdown",
   "metadata": {},
   "source": [
    "# Tonic bias?"
   ]
  },
  {
   "cell_type": "code",
   "execution_count": 9,
   "metadata": {
    "collapsed": true
   },
   "outputs": [],
   "source": [
    "# external_current = current_pulse(time, t_onset=2, t_offset=2.5, I=0.5e-6)"
   ]
  },
  {
   "cell_type": "markdown",
   "metadata": {},
   "source": [
    "# Run HHH"
   ]
  },
  {
   "cell_type": "code",
   "execution_count": null,
   "metadata": {},
   "outputs": [],
   "source": [
    "results = HHH(\n",
    "    time,\n",
    "    ns_in,\n",
    "    ts_in,\n",
    "    ns_osc,\n",
    "    ts_osc,\n",
    "    external_current=None,\n",
    "    N=N,\n",
    "    Ca_target=0.03,\n",
    "    tau_h=tau_h,\n",
    "    w_in=w,\n",
    "    tau_in=tau_i,\n",
    "    V_in=V_i,\n",
    "    bias_in=0.0e-9,\n",
    "    w_osc=w,\n",
    "    tau_osc=tau_e,\n",
    "    V_osc=V_e,\n",
    "    sigma=0,\n",
    "    homeostasis=True,\n",
    "    time_step=1e-5,\n",
    "    seed_value=42\n",
    ")"
   ]
  },
  {
   "cell_type": "code",
   "execution_count": null,
   "metadata": {},
   "outputs": [],
   "source": [
    "results.keys(), results['v_m'].std(), results['calcium'].mean()"
   ]
  },
  {
   "cell_type": "code",
   "execution_count": null,
   "metadata": {
    "collapsed": true
   },
   "outputs": [],
   "source": [
    "n = 0"
   ]
  },
  {
   "cell_type": "code",
   "execution_count": null,
   "metadata": {},
   "outputs": [],
   "source": [
    "# plt.figure()\n",
    "fig, ax = plt.subplots(2, sharex=True, figsize=(16, 8))\n",
    "\n",
    "_ = ax[0].plot(ts_in, ns_in, \n",
    "               markersize=1, marker='o', linestyle='', color='k', label='Stim (6 Hz)')\n",
    "_ = ax[0].set_ylabel(\"N\")\n",
    "_ = ax[0].legend(loc='center left', bbox_to_anchor=(.9, 0.5))\n",
    "\n",
    "_ = ax[1].plot(ts_osc, ns_osc, \n",
    "               markersize=1, marker='o', linestyle='', color='k', label='Oscillation\\n(Freq: 8, Rate: 3 Hz)')\n",
    "_ = ax[1].set_xlabel(\"Time (s)\")\n",
    "_ = ax[1].set_ylabel(\"N\")\n",
    "_ = ax[1].legend(loc='center left', bbox_to_anchor=(.9, 0.5))\n",
    "\n",
    "plt.tight_layout()\n",
    "sns.despine()"
   ]
  },
  {
   "cell_type": "code",
   "execution_count": null,
   "metadata": {},
   "outputs": [],
   "source": [
    "# plt.figure()\n",
    "fig, ax = plt.subplots(4, sharex=True, figsize=(16, 20))\n",
    "\n",
    "# Vm\n",
    "t = results['times']\n",
    "v = results['v_m'][n, :]*1e3\n",
    "_ = ax[0].plot(t, v, linestyle='-', linewidth=1.5, color='k', alpha=0.9)\n",
    "_ = ax[0].set_ylabel(\"Voltage (mV)\")\n",
    "_ = ax[0].set_ylim(-100, 40)\n",
    "\n",
    "# Gtotal\n",
    "t = results['times']\n",
    "v = results['g_total'][n, :]*1e3\n",
    "_ = ax[1].plot(t, v, linestyle='-', linewidth=1.5, color='k', alpha=0.9)\n",
    "_ = ax[1].set_ylabel(\"Total conductance\\n(msiemens)\")\n",
    "# _ = ax[1].set_ylim(-100, 40)\n",
    "\n",
    "# Ca\n",
    "ca_target = 0.03\n",
    "t = results['times']\n",
    "v = results['calcium'][n, :]\n",
    "_ = ax[2].plot(t, v, linestyle='-', linewidth=3, color='k', alpha=0.9)\n",
    "_ = ax[2].plot(t, np.repeat(ca_target, v.size), \n",
    "               linestyle='-', linewidth=4, color='purple', alpha=0.25, label=\"Target\")\n",
    "_ = ax[2].set_ylabel(\"Calcium conc.\")\n",
    "_ = ax[2].legend(loc='center left', bbox_to_anchor=(1, 0.5))\n",
    "# _ = ax[1].set_ylim(-100, 40)\n",
    "\n",
    "# Homeostatsis\n",
    "t = results['times']\n",
    "v1 = results['g_KCa'][n, :]\n",
    "v2 = results['g_K'][n, :]\n",
    "v3 = results['g_Na'][n, :]\n",
    "v4 = results['g_Ca'][n, :]\n",
    "_ = ax[3].plot(t, v1, linestyle='-', linewidth=3, color='blue', alpha=0.8, label=\"g_KCa\")\n",
    "_ = ax[3].plot(t, v2, linestyle='-', linewidth=3, color='blue', alpha=0.5, label=\"g_K\")\n",
    "_ = ax[3].plot(t, v3, linestyle='-', linewidth=3, color='red', alpha=0.9, label=\"g_Na\")\n",
    "_ = ax[3].plot(t, v4, linestyle='-', linewidth=3, color='purple', alpha=0.9, label=\"g_Ca\")\n",
    "_ = ax[3].set_xlabel(\"Time (s)\")\n",
    "_ = ax[3].set_ylabel(\"Conductance\\nhomeostasis\")\n",
    "_ = ax[3].legend(loc='center left', bbox_to_anchor=(1, 0.5))\n",
    "\n",
    "# \n",
    "plt.tight_layout()\n",
    "sns.despine()"
   ]
  },
  {
   "cell_type": "code",
   "execution_count": null,
   "metadata": {
    "collapsed": true
   },
   "outputs": [],
   "source": []
  },
  {
   "cell_type": "code",
   "execution_count": null,
   "metadata": {
    "collapsed": true
   },
   "outputs": [],
   "source": []
  }
 ],
 "metadata": {
  "kernelspec": {
   "display_name": "Python 2",
   "language": "python",
   "name": "python2"
  },
  "language_info": {
   "codemirror_mode": {
    "name": "ipython",
    "version": 2
   },
   "file_extension": ".py",
   "mimetype": "text/x-python",
   "name": "python",
   "nbconvert_exporter": "python",
   "pygments_lexer": "ipython2",
   "version": "2.7.13"
  }
 },
 "nbformat": 4,
 "nbformat_minor": 2
}
