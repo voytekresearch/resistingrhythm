{
 "cells": [
  {
   "cell_type": "markdown",
   "metadata": {},
   "source": [
    "# Basic tests for the HHH neuron"
   ]
  },
  {
   "cell_type": "code",
   "execution_count": 1,
   "metadata": {},
   "outputs": [],
   "source": [
    "# from bokeh.plotting import figure\n",
    "# from bokeh.io import show, output_notebook\n",
    "# from bokeh.layouts import column, row\n",
    "# from bokeh.models import Range1d\n",
    "# output_notebook()\n",
    "\n",
    "import matplotlib.pyplot as plt\n",
    "plt.rcParams.update({'font.size': 50})\n",
    "\n",
    "%matplotlib inline\n",
    "\n",
    "import seaborn as sns\n",
    "sns.set(font_scale=3)\n",
    "sns.set_style('ticks')\n",
    "\n",
    "import numpy as np\n",
    "\n",
    "from resistingrhythm.util import poisson_impulse\n",
    "from resistingrhythm.util import poisson_oscillation\n",
    "from resistingrhythm.util import current_pulse\n",
    "from resistingrhythm.util import load_spikes\n",
    "from resistingrhythm.neurons import HHH\n",
    "\n",
    "import warnings\n",
    "warnings.filterwarnings(\"ignore\")"
   ]
  },
  {
   "cell_type": "markdown",
   "metadata": {},
   "source": [
    "# Shared params"
   ]
  },
  {
   "cell_type": "code",
   "execution_count": 2,
   "metadata": {},
   "outputs": [],
   "source": [
    "# Net\n",
    "time = 4\n",
    "N = 100\n",
    "\n",
    "# H\n",
    "tau_h = 1\n",
    "homeostasis = True\n",
    "\n",
    "# Membrane noise (needs LOW dt)\n",
    "sigma = 0#400e-9\n",
    "\n",
    "# Synapse params\n",
    "V_e = 0\n",
    "V_i = -80e-3\n",
    "tau_e = 5e-3\n",
    "tau_i = 10e-3\n",
    "w = (5e-6, 50e-6)\n",
    "\n",
    "# Ca dynamics\n",
    "G_KCa = 60e-3\n",
    "G_Ca = 1e-3\n",
    "dynamic_calcium_gate = False"
   ]
  },
  {
   "cell_type": "markdown",
   "metadata": {},
   "source": [
    "# Generate some spiking input...."
   ]
  },
  {
   "cell_type": "code",
   "execution_count": 3,
   "metadata": {},
   "outputs": [],
   "source": [
    "# Empty\n",
    "# ns_in, ts_in = np.asarray([]), np.asarray([])\n",
    "# ns_osc, ts_osc = np.asarray([]), np.asarray([])\n",
    "\n",
    "# Or load some input\n",
    "osc_name = \"/Users/qualia/Code/resistingrhythm/data/osc105.csv\"\n",
    "stim_name = \"/Users/qualia/Code/resistingrhythm/data/stim3.csv\"\n",
    "ns_osc, ts_osc = load_spikes(osc_name)\n",
    "ns_in, ts_in = load_spikes(stim_name)"
   ]
  },
  {
   "cell_type": "markdown",
   "metadata": {},
   "source": [
    "# Tonic bias?"
   ]
  },
  {
   "cell_type": "code",
   "execution_count": 4,
   "metadata": {},
   "outputs": [],
   "source": [
    "# external_current = current_pulse(time, t_onset=2, t_offset=2.5, I=0.5e-6)"
   ]
  },
  {
   "cell_type": "markdown",
   "metadata": {},
   "source": [
    "# Run HHH"
   ]
  },
  {
   "cell_type": "code",
   "execution_count": null,
   "metadata": {},
   "outputs": [
    {
     "name": "stderr",
     "output_type": "stream",
     "text": [
      "WARNING    \"g_KCa\" is an internal variable of group \"neurongroup\", but also exists in the run namespace with the value 30. * msiemens. The internal variable will be used. [brian2.groups.group.Group.resolve.resolution_conflict]\n",
      "WARNING    \"Ca\" is an internal variable of group \"neurongroup\", but also exists in the run namespace with the value 3. * umolar. The internal variable will be used. [brian2.groups.group.Group.resolve.resolution_conflict]\n",
      "WARNING    \"g_Ca\" is an internal variable of group \"neurongroup\", but also exists in the run namespace with the value 30. * usiemens. The internal variable will be used. [brian2.groups.group.Group.resolve.resolution_conflict]\n",
      "WARNING    \"Ca_target\" is an internal variable of group \"neurongroup\", but also exists in the run namespace with the value 3. * umolar. The internal variable will be used. [brian2.groups.group.Group.resolve.resolution_conflict]\n",
      "WARNING    \"g_Na\" is an internal variable of group \"neurongroup\", but also exists in the run namespace with the value 180. * msiemens. The internal variable will be used. [brian2.groups.group.Group.resolve.resolution_conflict]\n",
      "WARNING    \"g_K\" is an internal variable of group \"neurongroup\", but also exists in the run namespace with the value 60. * msiemens. The internal variable will be used. [brian2.groups.group.Group.resolve.resolution_conflict]\n",
      "WARNING    \"w_osc\" is an internal variable of group \"synapses_1\", but also exists in the run namespace with the value array([3.81236965e-05, 1.18466549e-05, 4.60503330e-05, ...,\n",
      "       4.87482336e-05, 3.19582180e-05, 1.58771179e-05]). The internal variable will be used. [brian2.groups.group.Group.resolve.resolution_conflict]\n",
      "WARNING    \"w_in\" is an internal variable of group \"synapses\", but also exists in the run namespace with the value array([2.18543053e-05, 4.77821438e-05, 3.79397274e-05, ...,\n",
      "       6.28340112e-06, 4.59186866e-05, 5.37004091e-06]). The internal variable will be used. [brian2.groups.group.Group.resolve.resolution_conflict]\n"
     ]
    }
   ],
   "source": [
    "results = HHH(\n",
    "    time,\n",
    "    ns_in,\n",
    "    ts_in,\n",
    "    ns_osc,\n",
    "    ts_osc,\n",
    "    external_current=None,\n",
    "    N=N,\n",
    "    Ca_target=0.003,\n",
    "    tau_h=tau_h,\n",
    "    w_in=w,\n",
    "    tau_in=tau_e,\n",
    "    V_in=V_e,\n",
    "    bias_in=0.0e-9,\n",
    "    w_osc=w,\n",
    "    tau_osc=tau_e,\n",
    "    V_osc=V_e,\n",
    "    sigma=sigma,\n",
    "#     g_l=g_l,\n",
    "#     g_Ca=g_Ca,\n",
    "#     G_Ca=G_Ca,\n",
    "#     G_KCa=G_KCa,\n",
    "    homeostasis=homeostasis,\n",
    "    dynamic_calcium_gate=dynamic_calcium_gate,\n",
    "    time_step=1e-5,\n",
    "    seed_value=42\n",
    ")"
   ]
  },
  {
   "cell_type": "code",
   "execution_count": null,
   "metadata": {},
   "outputs": [],
   "source": [
    "ts_x, ns_x = results['ts'], results['ns']\n",
    "results.keys(), results['calcium'][:, -100].mean()"
   ]
  },
  {
   "cell_type": "code",
   "execution_count": null,
   "metadata": {
    "scrolled": false
   },
   "outputs": [],
   "source": [
    "# Which neuron's traces to plot (all spikes shown)\n",
    "n = 0\n",
    "\n",
    "# --------------------------------------------------------------------------------\n",
    "fig, ax = plt.subplots(8, sharex=True, figsize=(16, 30))\n",
    "\n",
    "# Drives\n",
    "_ = ax[0].plot(ts_in, ns_in, markersize=2, marker='o', linestyle='', color='k', \n",
    "               label='Stim (6 Hz)')\n",
    "_ = ax[0].set_ylabel(\"N\")\n",
    "_ = ax[0].legend(loc='center left', bbox_to_anchor=(.9, 0.5))\n",
    "_ = ax[0].set_xlim(0, time)\n",
    "\n",
    "_ = ax[1].plot(ts_osc, ns_osc, markersize=2, marker='o', linestyle='', color='k', \n",
    "               label='Oscillation\\n(Freq: 8, Rate: 3 Hz)')\n",
    "_ = ax[1].set_ylabel(\"N\")\n",
    "_ = ax[1].legend(loc='center left', bbox_to_anchor=(.9, 0.5))\n",
    "_ = ax[1].set_xlim(0, time)\n",
    "\n",
    "# Obs. spikes\n",
    "_ = ax[2].plot(ts_x, ns_x, markersize=2, marker='o', linestyle='', color='k',\n",
    "              label='Population response')\n",
    "_ = ax[2].set_ylabel(\"N\")\n",
    "_ = ax[2].set_ylim(0, 100)\n",
    "_ = ax[2].legend(loc='center left', bbox_to_anchor=(.9, 0.5))\n",
    "\n",
    "# Vm\n",
    "t = results['times']\n",
    "v = results['v_m'][n, :]*1e3\n",
    "_ = ax[3].plot(t, v, linestyle='-', linewidth=1.5, color='k', alpha=0.9)\n",
    "_ = ax[3].set_ylabel(\"Voltage (mV)\")\n",
    "# _ = ax[1].set_ylim(-100, 40)\n",
    "\n",
    "# Gtotal\n",
    "t = results['times']\n",
    "v = results['g_Ca'][n, :]*1e3\n",
    "_ = ax[4].plot(t, v, linestyle='-', linewidth=1.5, color='k', alpha=0.9)\n",
    "_ = ax[4].set_ylabel(\"Total conductance\\n(msiemens)\")\n",
    "# _ = ax[1].set_ylim(-100, 40)\n",
    "\n",
    "# Gtotal\n",
    "t = results['times']\n",
    "v = results['I_osc'][n, :]\n",
    "_ = ax[5].plot(t, v, linestyle='-', linewidth=1.5, color='k', alpha=0.9)\n",
    "_ = ax[5].set_ylabel(\"I_osc\\n(siemens)\")\n",
    "# _ = ax[1].set_ylim(-100, 40)\n",
    "\n",
    "# Ca\n",
    "ca_target = 0.003\n",
    "t = results['times']\n",
    "v = results['calcium'][n, :]\n",
    "_ = ax[6].plot(t, v, linestyle='-', linewidth=3, color='k', alpha=0.9)\n",
    "_ = ax[6].plot(t, np.repeat(ca_target, v.size), linestyle='-', linewidth=4, color='purple', alpha=0.25, \n",
    "               label=\"Target\")\n",
    "_ = ax[6].set_ylabel(\"Calcium conc.\")\n",
    "_ = ax[6].legend(loc='center left', bbox_to_anchor=(1, 0.5))\n",
    "# _ = ax[1].set_ylim(-100, 40)\n",
    "\n",
    "# Homeostatsis\n",
    "t = results['times']\n",
    "v1 = results['g_KCa'][n, :]\n",
    "v2 = results['g_K'][n, :]\n",
    "v3 = results['g_Na'][n, :]\n",
    "v4 = results['g_Ca'][n, :]\n",
    "_ = ax[7].plot(t, v1, linestyle='-', linewidth=3, color='blue', alpha=0.8, label=\"g_KCa\")\n",
    "_ = ax[7].plot(t, v2, linestyle='-', linewidth=3, color='blue', alpha=0.5, label=\"g_K\")\n",
    "_ = ax[7].plot(t, v3, linestyle='-', linewidth=3, color='red', alpha=0.9, label=\"g_Na\")\n",
    "_ = ax[7].plot(t, v4, linestyle='-', linewidth=3, color='purple', alpha=0.9, label=\"g_Ca\")\n",
    "_ = ax[7].set_xlabel(\"Time (s)\")\n",
    "_ = ax[7].set_ylabel(\"Conductance\\nhomeostasis\")\n",
    "_ = ax[7].legend(loc='center left', bbox_to_anchor=(1, 0.5))\n",
    "_ = ax[7].semilogy()\n",
    "plt.tight_layout()\n",
    "sns.despine()"
   ]
  },
  {
   "cell_type": "markdown",
   "metadata": {
    "collapsed": true
   },
   "source": [
    "# Vm histogram"
   ]
  },
  {
   "cell_type": "code",
   "execution_count": null,
   "metadata": {},
   "outputs": [],
   "source": [
    "v = results['v_m'][n, :]*1e3\n",
    "plt.hist(v, color=\"black\", bins=1000)\n",
    "plt.xlabel(\"Vm\")\n",
    "plt.ylabel(\"Counts\")"
   ]
  },
  {
   "cell_type": "code",
   "execution_count": null,
   "metadata": {},
   "outputs": [],
   "source": []
  },
  {
   "cell_type": "code",
   "execution_count": null,
   "metadata": {},
   "outputs": [],
   "source": [
    "\n"
   ]
  }
 ],
 "metadata": {
  "kernelspec": {
   "display_name": "Python 3",
   "language": "python",
   "name": "python3"
  },
  "language_info": {
   "codemirror_mode": {
    "name": "ipython",
    "version": 3
   },
   "file_extension": ".py",
   "mimetype": "text/x-python",
   "name": "python",
   "nbconvert_exporter": "python",
   "pygments_lexer": "ipython3",
   "version": "3.7.0"
  }
 },
 "nbformat": 4,
 "nbformat_minor": 2
}
