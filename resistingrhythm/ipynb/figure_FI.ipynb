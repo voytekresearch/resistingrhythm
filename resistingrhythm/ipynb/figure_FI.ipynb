{
 "cells": [
  {
   "cell_type": "markdown",
   "metadata": {
    "papermill": {
     "duration": null,
     "end_time": null,
     "exception": null,
     "start_time": null,
     "status": "completed"
    },
    "tags": []
   },
   "source": [
    "# FI curves\n",
    "\n",
    "Show explicit changes in excitbility with H"
   ]
  },
  {
   "cell_type": "code",
   "execution_count": 8,
   "metadata": {
    "papermill": {
     "duration": null,
     "end_time": null,
     "exception": null,
     "start_time": null,
     "status": "completed"
    },
    "tags": []
   },
   "outputs": [],
   "source": [
    "import matplotlib.pyplot as plt\n",
    "# plt.rcParams.update({'font.size': 50})\n",
    "\n",
    "%matplotlib inline\n",
    "\n",
    "import seaborn as sns\n",
    "sns.set(font_scale=3)\n",
    "sns.set_style('ticks', {'axes.edgecolor': '0'})\n",
    "\n",
    "import numpy as np\n",
    "import pandas as pd\n",
    "\n",
    "from resistingrhythm.util import poisson_impulse\n",
    "from resistingrhythm.util import poisson_oscillation\n",
    "from resistingrhythm.util import current_pulse\n",
    "from resistingrhythm.util import load_spikes\n",
    "from resistingrhythm.util import create_times\n",
    "from resistingrhythm.neurons import HHH\n",
    "\n",
    "from fakespikes.rates import square_pulse"
   ]
  },
  {
   "cell_type": "markdown",
   "metadata": {
    "papermill": {
     "duration": null,
     "end_time": null,
     "exception": null,
     "start_time": null,
     "status": "completed"
    },
    "tags": []
   },
   "source": [
    "# Simulation\n",
    "\n",
    "Run twice. Once with osc_rate = 0. Once with osc_rate = 1.5"
   ]
  },
  {
   "cell_type": "markdown",
   "metadata": {
    "papermill": {
     "duration": null,
     "end_time": null,
     "exception": null,
     "start_time": null,
     "status": "completed"
    },
    "tags": []
   },
   "source": [
    "## Tune"
   ]
  },
  {
   "cell_type": "code",
   "execution_count": null,
   "metadata": {
    "papermill": {
     "duration": null,
     "end_time": null,
     "exception": null,
     "start_time": null,
     "status": "completed"
    },
    "tags": []
   },
   "outputs": [],
   "source": [
    "# Shared parameters\n",
    "time = 4\n",
    "N = 100\n",
    "tau_h = 1\n",
    "\n",
    "V_e = 0\n",
    "tau_e = 5e-3\n",
    "w = (5e-6, 50e-6)\n",
    "\n",
    "dt = 1e-5"
   ]
  },
  {
   "cell_type": "code",
   "execution_count": null,
   "metadata": {
    "papermill": {
     "duration": null,
     "end_time": null,
     "exception": null,
     "start_time": null,
     "status": "completed"
    },
    "tags": []
   },
   "outputs": [],
   "source": [
    "# Load some input\n",
    "osc_name = \"/Users/qualia/Code/resistingrhythm/data/osc115.csv\"\n",
    "stim_name = \"/Users/qualia/Code/resistingrhythm/data/stim3.csv\"\n",
    "\n",
    "# ns_osc, ts_osc = np.asarray([]), np.asarray([])\n",
    "ns_osc, ts_osc = load_spikes(osc_name)\n",
    "\n",
    "# -\n",
    "# plt.figure()\n",
    "fig, ax = plt.subplots(1, sharex=True, figsize=(10, 2))\n",
    "_ = ax.plot(ts_osc, ns_osc, markersize=.5, marker='o', linestyle='', color='k')\n",
    "_ = ax.set_xlim(0, 2)\n",
    "sns.despine()"
   ]
  },
  {
   "cell_type": "code",
   "execution_count": null,
   "metadata": {
    "papermill": {
     "duration": null,
     "end_time": null,
     "exception": null,
     "start_time": null,
     "status": "completed"
    },
    "tags": []
   },
   "outputs": [],
   "source": [
    "# Create square wave\n",
    "a = 0.6e-5\n",
    "t_pulse = 3.75\n",
    "w_pulse = .1\n",
    "# t_pulse = 19.5\n",
    "# w_pulse = .1\n",
    "\n",
    "times = create_times((0, time), dt=dt)\n",
    "Is = square_pulse(times, a, t_pulse, w_pulse, dt=dt, min_a=0)\n",
    "\n",
    "# -\n",
    "fig, ax = plt.subplots(1, sharex=True, figsize=(2, 3))\n",
    "_ = ax.plot(times, Is, color='k')\n",
    "# _ = ax.set_xlim(19, 20.0)\n",
    "sns.despine()"
   ]
  },
  {
   "cell_type": "code",
   "execution_count": null,
   "metadata": {
    "papermill": {
     "duration": null,
     "end_time": null,
     "exception": null,
     "start_time": null,
     "status": "completed"
    },
    "tags": []
   },
   "outputs": [],
   "source": [
    "# Run 1\n",
    "results_1 = HHH(\n",
    "    time,\n",
    "    np.asarray([]), # No spike input\n",
    "    np.asarray([]),\n",
    "    ns_osc,\n",
    "    ts_osc,\n",
    "    external_current=Is,\n",
    "    N=N,\n",
    "    Ca_target=0.003,\n",
    "    tau_h=tau_h,\n",
    "    w_in=w,\n",
    "    tau_in=tau_e,\n",
    "    V_in=V_e,\n",
    "    bias_in=0.0e-9,\n",
    "    w_osc=w,\n",
    "    tau_osc=tau_e,\n",
    "    V_osc=V_e,\n",
    "    sigma=0,\n",
    "    homeostasis=False,\n",
    "    time_step=dt,\n",
    "    seed_value=42\n",
    ")"
   ]
  },
  {
   "cell_type": "code",
   "execution_count": null,
   "metadata": {
    "papermill": {
     "duration": null,
     "end_time": null,
     "exception": null,
     "start_time": null,
     "status": "completed"
    },
    "tags": []
   },
   "outputs": [],
   "source": [
    "# Run 2\n",
    "results_2 = HHH(\n",
    "    time,\n",
    "    np.asarray([]), # No spike input\n",
    "    np.asarray([]),\n",
    "    ns_osc,\n",
    "    ts_osc,\n",
    "    external_current=Is,\n",
    "    N=N,\n",
    "    Ca_target=0.003,\n",
    "    tau_h=tau_h,\n",
    "    w_in=w,\n",
    "    tau_in=tau_e,\n",
    "    V_in=V_e,\n",
    "    bias_in=0.0e-9,\n",
    "    w_osc=w,\n",
    "    tau_osc=tau_e,\n",
    "    V_osc=V_e,\n",
    "    sigma=0,\n",
    "    homeostasis=True,\n",
    "    time_step=dt,\n",
    "    seed_value=42\n",
    ")"
   ]
  },
  {
   "cell_type": "code",
   "execution_count": null,
   "metadata": {
    "papermill": {
     "duration": null,
     "end_time": null,
     "exception": null,
     "start_time": null,
     "status": "completed"
    },
    "tags": []
   },
   "outputs": [],
   "source": [
    "# -\n",
    "fig, ax = plt.subplots(2, sharex=True, figsize=(10, 3))\n",
    "_ = ax[0].plot(results_1['ts'], results_1['ns'], marker='o', linestyle='', color='k')\n",
    "_ = ax[1].plot(results_2['ts'], results_2['ns'], marker='o', linestyle='', color='k')\n",
    "_ = ax[0].set_xlim(0, 4)\n",
    "sns.despine()"
   ]
  },
  {
   "cell_type": "code",
   "execution_count": null,
   "metadata": {
    "papermill": {
     "duration": null,
     "end_time": null,
     "exception": null,
     "start_time": null,
     "status": "completed"
    },
    "tags": []
   },
   "outputs": [],
   "source": [
    "# -\n",
    "fig, ax = plt.subplots(2, sharex=True, figsize=(10, 6))\n",
    "_ = ax[0].plot(results_1['times'], results_1['v_m'][0,:], linestyle='-', color='k')\n",
    "_ = ax[1].plot(results_2['times'], results_2['v_m'][0,:], linestyle='-', color='k')\n",
    "_ = ax[0].set_xlim(3.7, 3.9)\n",
    "sns.despine()"
   ]
  },
  {
   "cell_type": "code",
   "execution_count": null,
   "metadata": {
    "papermill": {
     "duration": null,
     "end_time": null,
     "exception": null,
     "start_time": null,
     "status": "completed"
    },
    "tags": []
   },
   "outputs": [],
   "source": [
    "# Est rate\n",
    "rate_1 = (results_1['ts'] > 3.5).sum()\n",
    "rate_2 = (results_2['ts'] > 3.5).sum()\n",
    "print(f\"Rate 1: {rate_1}, Rate 2: {rate_2}\")"
   ]
  },
  {
   "cell_type": "markdown",
   "metadata": {
    "papermill": {
     "duration": null,
     "end_time": null,
     "exception": null,
     "start_time": null,
     "status": "completed"
    },
    "tags": []
   },
   "source": [
    "# Generate curves"
   ]
  },
  {
   "cell_type": "code",
   "execution_count": 2,
   "metadata": {
    "papermill": {
     "duration": null,
     "end_time": null,
     "exception": null,
     "start_time": null,
     "status": "completed"
    },
    "tags": []
   },
   "outputs": [],
   "source": [
    "# Load some input\n",
    "osc_name = \"/Users/qualia/Code/resistingrhythm/data/osc115.csv\"\n",
    "ns_osc, ts_osc = load_spikes(osc_name)"
   ]
  },
  {
   "cell_type": "code",
   "execution_count": 3,
   "metadata": {
    "papermill": {
     "duration": null,
     "end_time": null,
     "exception": null,
     "start_time": null,
     "status": "completed"
    },
    "scrolled": false,
    "tags": []
   },
   "outputs": [
    {
     "name": "stdout",
     "output_type": "stream",
     "text": [
      "Curve: 0. Pulse: 1e-06\n"
     ]
    },
    {
     "name": "stderr",
     "output_type": "stream",
     "text": [
      "WARNING    \"Ca\" is an internal variable of group \"neurongroup\", but also exists in the run namespace with the value 3. * umolar. The internal variable will be used. [brian2.groups.group.Group.resolve.resolution_conflict]\n",
      "WARNING    \"g_Ca\" is an internal variable of group \"neurongroup\", but also exists in the run namespace with the value 30. * usiemens. The internal variable will be used. [brian2.groups.group.Group.resolve.resolution_conflict]\n",
      "WARNING    \"g_K\" is an internal variable of group \"neurongroup\", but also exists in the run namespace with the value 60. * msiemens. The internal variable will be used. [brian2.groups.group.Group.resolve.resolution_conflict]\n",
      "WARNING    \"g_Na\" is an internal variable of group \"neurongroup\", but also exists in the run namespace with the value 180. * msiemens. The internal variable will be used. [brian2.groups.group.Group.resolve.resolution_conflict]\n",
      "WARNING    \"g_KCa\" is an internal variable of group \"neurongroup\", but also exists in the run namespace with the value 30. * msiemens. The internal variable will be used. [brian2.groups.group.Group.resolve.resolution_conflict]\n",
      "WARNING    \"w_osc\" is an internal variable of group \"synapses\", but also exists in the run namespace with the value array([2.18543053e-05, 4.77821438e-05, 3.79397274e-05, ...,\n",
      "       6.28340112e-06, 4.59186866e-05, 5.37004091e-06]). The internal variable will be used. [brian2.groups.group.Group.resolve.resolution_conflict]\n",
      "WARNING    \"Ca\" is an internal variable of group \"neurongroup_1\", but also exists in the run namespace with the value 3. * umolar. The internal variable will be used. [brian2.groups.group.Group.resolve.resolution_conflict]\n",
      "WARNING    \"Ca_target\" is an internal variable of group \"neurongroup_1\", but also exists in the run namespace with the value 3. * umolar. The internal variable will be used. [brian2.groups.group.Group.resolve.resolution_conflict]\n",
      "WARNING    \"g_Ca\" is an internal variable of group \"neurongroup_1\", but also exists in the run namespace with the value 30. * usiemens. The internal variable will be used. [brian2.groups.group.Group.resolve.resolution_conflict]\n",
      "WARNING    \"g_K\" is an internal variable of group \"neurongroup_1\", but also exists in the run namespace with the value 60. * msiemens. The internal variable will be used. [brian2.groups.group.Group.resolve.resolution_conflict]\n",
      "WARNING    \"g_Na\" is an internal variable of group \"neurongroup_1\", but also exists in the run namespace with the value 180. * msiemens. The internal variable will be used. [brian2.groups.group.Group.resolve.resolution_conflict]\n",
      "WARNING    \"g_KCa\" is an internal variable of group \"neurongroup_1\", but also exists in the run namespace with the value 30. * msiemens. The internal variable will be used. [brian2.groups.group.Group.resolve.resolution_conflict]\n"
     ]
    },
    {
     "name": "stdout",
     "output_type": "stream",
     "text": [
      "Rate 1 (no): 178. Rate 2 (yes): 4\n",
      "Curve: 1. Pulse: 1e-05\n"
     ]
    },
    {
     "name": "stderr",
     "output_type": "stream",
     "text": [
      "WARNING    \"Ca\" is an internal variable of group \"neurongroup_2\", but also exists in the run namespace with the value 3. * umolar. The internal variable will be used. [brian2.groups.group.Group.resolve.resolution_conflict]\n",
      "WARNING    \"g_Ca\" is an internal variable of group \"neurongroup_2\", but also exists in the run namespace with the value 30. * usiemens. The internal variable will be used. [brian2.groups.group.Group.resolve.resolution_conflict]\n",
      "WARNING    \"g_K\" is an internal variable of group \"neurongroup_2\", but also exists in the run namespace with the value 60. * msiemens. The internal variable will be used. [brian2.groups.group.Group.resolve.resolution_conflict]\n",
      "WARNING    \"g_Na\" is an internal variable of group \"neurongroup_2\", but also exists in the run namespace with the value 180. * msiemens. The internal variable will be used. [brian2.groups.group.Group.resolve.resolution_conflict]\n",
      "WARNING    \"g_KCa\" is an internal variable of group \"neurongroup_2\", but also exists in the run namespace with the value 30. * msiemens. The internal variable will be used. [brian2.groups.group.Group.resolve.resolution_conflict]\n",
      "WARNING    \"Ca\" is an internal variable of group \"neurongroup_3\", but also exists in the run namespace with the value 3. * umolar. The internal variable will be used. [brian2.groups.group.Group.resolve.resolution_conflict]\n",
      "WARNING    \"Ca_target\" is an internal variable of group \"neurongroup_3\", but also exists in the run namespace with the value 3. * umolar. The internal variable will be used. [brian2.groups.group.Group.resolve.resolution_conflict]\n",
      "WARNING    \"g_Ca\" is an internal variable of group \"neurongroup_3\", but also exists in the run namespace with the value 30. * usiemens. The internal variable will be used. [brian2.groups.group.Group.resolve.resolution_conflict]\n",
      "WARNING    \"g_K\" is an internal variable of group \"neurongroup_3\", but also exists in the run namespace with the value 60. * msiemens. The internal variable will be used. [brian2.groups.group.Group.resolve.resolution_conflict]\n",
      "WARNING    \"g_Na\" is an internal variable of group \"neurongroup_3\", but also exists in the run namespace with the value 180. * msiemens. The internal variable will be used. [brian2.groups.group.Group.resolve.resolution_conflict]\n",
      "WARNING    \"g_KCa\" is an internal variable of group \"neurongroup_3\", but also exists in the run namespace with the value 30. * msiemens. The internal variable will be used. [brian2.groups.group.Group.resolve.resolution_conflict]\n"
     ]
    },
    {
     "name": "stdout",
     "output_type": "stream",
     "text": [
      "Rate 1 (no): 2602. Rate 2 (yes): 1890\n"
     ]
    }
   ],
   "source": [
    "# Shared parameters\n",
    "time = 4\n",
    "N = 100\n",
    "tau_h = 1\n",
    "\n",
    "V_e = 0\n",
    "tau_e = 5e-3\n",
    "w = (5e-6, 50e-6)\n",
    "\n",
    "dt = 1e-5\n",
    "\n",
    "# Impulse desgin\n",
    "t_pulse = 3.75\n",
    "w_pulse = .1\n",
    "a_start = 0.1e-5\n",
    "a_stop = 1.0e-5\n",
    "n_steps = 90\n",
    "a_range = np.linspace(a_start, a_stop, n_steps)\n",
    "\n",
    "# -\n",
    "rates_1, rates_2 = [], []\n",
    "for i, a in enumerate(a_range):\n",
    "    print(f\"Curve: {i}. Pulse: {a}\")\n",
    "    \n",
    "    # Create pulse\n",
    "    times = create_times((0, time), dt=dt)\n",
    "    Is = square_pulse(times, a, t_pulse, w_pulse, dt=dt, min_a=0)\n",
    "    \n",
    "    # Run 1\n",
    "    results_1 = HHH(\n",
    "        time,\n",
    "        np.asarray([]), # No spike input\n",
    "        np.asarray([]),\n",
    "        ns_osc,\n",
    "        ts_osc,\n",
    "        external_current=Is,\n",
    "        N=N,\n",
    "        Ca_target=0.003,\n",
    "        tau_h=tau_h,\n",
    "        w_in=w,\n",
    "        tau_in=tau_e,\n",
    "        V_in=V_e,\n",
    "        bias_in=0.0e-9,\n",
    "        w_osc=w,\n",
    "        tau_osc=tau_e,\n",
    "        V_osc=V_e,\n",
    "        sigma=0,\n",
    "        homeostasis=False,\n",
    "        time_step=dt,\n",
    "        seed_value=42\n",
    "    )\n",
    "    \n",
    "    # Run 2\n",
    "    results_2 = HHH(\n",
    "        time,\n",
    "        np.asarray([]), # No spike input\n",
    "        np.asarray([]),\n",
    "        ns_osc,\n",
    "        ts_osc,\n",
    "        external_current=Is,\n",
    "        N=N,\n",
    "        Ca_target=0.003,\n",
    "        tau_h=tau_h,\n",
    "        w_in=w,\n",
    "        tau_in=tau_e,\n",
    "        V_in=V_e,\n",
    "        bias_in=0.0e-9,\n",
    "        w_osc=w,\n",
    "        tau_osc=tau_e,\n",
    "        V_osc=V_e,\n",
    "        sigma=0,\n",
    "        homeostasis=True,\n",
    "        time_step=dt,\n",
    "        seed_value=42\n",
    "    )\n",
    "    \n",
    "    # Extract rates, and save\n",
    "    r_1 = (results_1['ts'] > 3.5).sum()\n",
    "    r_2 = (results_2['ts'] > 3.5).sum()\n",
    "    rates_1.append(r_1)\n",
    "    rates_2.append(r_2)\n",
    "    \n",
    "    print(f\"Rate 1 (no): {r_1}. Rate 2 (yes): {r_2}\")"
   ]
  },
  {
   "cell_type": "code",
   "execution_count": 16,
   "metadata": {
    "papermill": {
     "duration": null,
     "end_time": null,
     "exception": null,
     "start_time": null,
     "status": "completed"
    },
    "tags": []
   },
   "outputs": [],
   "source": [
    "fi = {\n",
    "    'rate_ref' : rates_1,\n",
    "    'rate_h' : rates_2,\n",
    "    'impulse' : a_range\n",
    "}\n",
    "# to npy\n",
    "np.save('FI_curves', fi)\n",
    "# to csv\n",
    "pd.DataFrame(fi).to_csv('FI_curves.csv', index=False)"
   ]
  },
  {
   "cell_type": "code",
   "execution_count": null,
   "metadata": {
    "papermill": {
     "duration": null,
     "end_time": null,
     "exception": null,
     "start_time": null,
     "status": "completed"
    },
    "tags": []
   },
   "outputs": [],
   "source": [
    "fig, ax = plt.subplots(1, sharex=True, figsize=(7, 4))\n",
    "_ = ax.plot(fi['impulse']*1e6, np.asarray(fi['rate_no'])/100, color='lightgrey', linestyle=\"--\", linewidth=4)\n",
    "_ = ax.plot(fi['impulse']*1e6, np.asarray(fi['rate_h'])/100, color='black', linewidth=4)\n",
    "_ = ax.set_xlabel(\"Impulse (usiemens)\")\n",
    "_ = ax.set_ylabel(\"Avg. firing (Hz)\")\n",
    "sns.despine()"
   ]
  },
  {
   "cell_type": "code",
   "execution_count": null,
   "metadata": {
    "papermill": {
     "duration": null,
     "end_time": null,
     "exception": null,
     "start_time": null,
     "status": "completed"
    },
    "tags": []
   },
   "outputs": [],
   "source": []
  }
 ],
 "metadata": {
  "kernelspec": {
   "display_name": "Python 3",
   "language": "python",
   "name": "python3"
  },
  "language_info": {
   "codemirror_mode": {
    "name": "ipython",
    "version": 3
   },
   "file_extension": ".py",
   "mimetype": "text/x-python",
   "name": "python",
   "nbconvert_exporter": "python",
   "pygments_lexer": "ipython3",
   "version": "3.6.7"
  },
  "papermill": {
   "duration": 0.177036,
   "end_time": "2019-08-22T15:55:50.631570",
   "environment_variables": {},
   "exception": null,
   "input_path": "figure_FI.ipynb",
   "output_path": "figure_FI.ipynb",
   "parameters": {},
   "start_time": "2019-08-22T15:55:50.454534",
   "version": "1.1.0"
  }
 },
 "nbformat": 4,
 "nbformat_minor": 2
}
