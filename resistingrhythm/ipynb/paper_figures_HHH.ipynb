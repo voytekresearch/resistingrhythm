{
 "cells": [
  {
   "cell_type": "markdown",
   "metadata": {},
   "source": [
    "# Figure 1 - plots\n",
    "\n",
    "For Figure 1. Show some examples, and cartoons, of the model. The full figure is assmebled in Keytnote. This notebook just makes the plots that go into it."
   ]
  },
  {
   "cell_type": "code",
   "execution_count": 1,
   "metadata": {},
   "outputs": [],
   "source": [
    "import os\n",
    "\n",
    "import numpy as np\n",
    "\n",
    "import matplotlib.pyplot as plt\n",
    "import seaborn as sns\n",
    "\n",
    "%matplotlib inline\n",
    "sns.set(font_scale=3)\n",
    "sns.set_style('ticks', {'axes.edgecolor': '0'})\n",
    "\n",
    "plt.rcParams['axes.linewidth'] = 5\n",
    "plt.rcParams['axes.labelweight'] = 5\n",
    "plt.rcParams['xtick.major.size'] = 10\n",
    "plt.rcParams['ytick.major.size'] = 10\n",
    "plt.rcParams['axes.labelweight'] = 10\n",
    "\n",
    "from resistingrhythm.util import poisson_impulse\n",
    "from resistingrhythm.util import poisson_oscillation\n",
    "from resistingrhythm.util import current_pulse\n",
    "from resistingrhythm.util import load_spikes\n",
    "from resistingrhythm.neurons import HHH\n",
    "\n",
    "from fakespikes.util import bin_times\n",
    "from fakespikes.util import create_times"
   ]
  },
  {
   "cell_type": "code",
   "execution_count": 2,
   "metadata": {
    "scrolled": false
   },
   "outputs": [],
   "source": [
    "# plt.rcParams.keys()"
   ]
  },
  {
   "cell_type": "code",
   "execution_count": 3,
   "metadata": {},
   "outputs": [],
   "source": [
    "data_path = \"/Users/qualia/Code/resistingrhythm/data/\""
   ]
  },
  {
   "cell_type": "markdown",
   "metadata": {},
   "source": [
    "## Shared model params"
   ]
  },
  {
   "cell_type": "code",
   "execution_count": 31,
   "metadata": {},
   "outputs": [],
   "source": [
    "# General\n",
    "time = 20\n",
    "N = 1\n",
    "\n",
    "# H control\n",
    "homeostasis = True\n",
    "Ca_target = 0.003\n",
    "tau_h = 4\n",
    "\n",
    "# Synapse parameters\n",
    "V_e = 0\n",
    "V_i = -80e-3\n",
    "tau_e = 5e-3\n",
    "tau_i = 10e-3\n",
    "w = (5e-6, 50e-6)"
   ]
  },
  {
   "cell_type": "markdown",
   "metadata": {},
   "source": [
    "## Spiking input"
   ]
  },
  {
   "cell_type": "code",
   "execution_count": 32,
   "metadata": {},
   "outputs": [],
   "source": [
    "# Or load some input\n",
    "tonic_name = os.path.join(data_path, \"osc130.csv\")\n",
    "burst_name = os.path.join(data_path, \"burst130.csv\")\n",
    "ns_tonic, ts_tonic = load_spikes(tonic_name)\n",
    "ns_burst, ts_burst = load_spikes(burst_name)\n",
    "\n",
    "# No modulation\n",
    "# ns_osc, ts_osc = np.asarray([]), np.asarray([])\n",
    "# ns_burst, ts_burst = np.asarray([]), np.asarray([])\n",
    "\n",
    "# Stim\n",
    "stim_name = os.path.join(data_path, \"stim3.csv\")\n",
    "ns_in, ts_in = load_spikes(stim_name)"
   ]
  },
  {
   "cell_type": "markdown",
   "metadata": {},
   "source": [
    "## Tonic bias?"
   ]
  },
  {
   "cell_type": "code",
   "execution_count": 33,
   "metadata": {},
   "outputs": [],
   "source": [
    "# external_current = current_pulse(time, t_onset=2, t_offset=2.5, I=0.5e-6)"
   ]
  },
  {
   "cell_type": "markdown",
   "metadata": {},
   "source": [
    "## Run HHH\n",
    "\n",
    "Tonic and burst"
   ]
  },
  {
   "cell_type": "code",
   "execution_count": 34,
   "metadata": {},
   "outputs": [
    {
     "name": "stderr",
     "output_type": "stream",
     "text": [
      "WARNING    \"Ca_target\" is an internal variable of group \"neurongroup\", but also exists in the run namespace with the value 3. * umolar. The internal variable will be used. [brian2.groups.group.Group.resolve.resolution_conflict]\n",
      "WARNING    \"Ca\" is an internal variable of group \"neurongroup\", but also exists in the run namespace with the value 3. * umolar. The internal variable will be used. [brian2.groups.group.Group.resolve.resolution_conflict]\n"
     ]
    }
   ],
   "source": [
    "tonic_results = HHH(\n",
    "    time,\n",
    "    ns_in,\n",
    "    ts_in,\n",
    "    ns_tonic,\n",
    "    ts_tonic,\n",
    "    external_current=None,\n",
    "    N=N,\n",
    "    Ca_target=Ca_target,\n",
    "    tau_h=tau_h,\n",
    "    w_in=w,\n",
    "    tau_in=tau_e,\n",
    "    V_in=V_e,\n",
    "    bias_in=0.0e-9,\n",
    "    w_osc=w,\n",
    "    tau_osc=tau_e,\n",
    "    V_osc=V_e,\n",
    "    sigma=0,\n",
    "    homeostasis=homeostasis,\n",
    "    time_step=1e-5,\n",
    "    seed_value=42\n",
    ")"
   ]
  },
  {
   "cell_type": "code",
   "execution_count": 35,
   "metadata": {},
   "outputs": [
    {
     "data": {
      "text/plain": [
       "0.003439682429521362"
      ]
     },
     "execution_count": 35,
     "metadata": {},
     "output_type": "execute_result"
    }
   ],
   "source": [
    "tonic_results.keys()\n",
    "tonic_results['v_m'].std()"
   ]
  },
  {
   "cell_type": "code",
   "execution_count": null,
   "metadata": {},
   "outputs": [
    {
     "name": "stderr",
     "output_type": "stream",
     "text": [
      "WARNING    \"Ca_target\" is an internal variable of group \"neurongroup_1\", but also exists in the run namespace with the value 3. * umolar. The internal variable will be used. [brian2.groups.group.Group.resolve.resolution_conflict]\n",
      "WARNING    \"Ca\" is an internal variable of group \"neurongroup_1\", but also exists in the run namespace with the value 3. * umolar. The internal variable will be used. [brian2.groups.group.Group.resolve.resolution_conflict]\n"
     ]
    }
   ],
   "source": [
    "burst_results = HHH(\n",
    "    time,\n",
    "    ns_in,\n",
    "    ts_in,\n",
    "    ns_burst,\n",
    "    ts_burst,\n",
    "    external_current=None,\n",
    "    N=N,\n",
    "    Ca_target=Ca_target,\n",
    "    tau_h=tau_h,\n",
    "    w_in=w,\n",
    "    tau_in=tau_e,\n",
    "    V_in=V_e,\n",
    "    bias_in=0.0e-9,\n",
    "    w_osc=w,\n",
    "    tau_osc=tau_e,\n",
    "    V_osc=V_e,\n",
    "    sigma=0,\n",
    "    homeostasis=homeostasis,\n",
    "    time_step=1e-5,\n",
    "    seed_value=42\n",
    ")"
   ]
  },
  {
   "cell_type": "code",
   "execution_count": null,
   "metadata": {},
   "outputs": [],
   "source": [
    "burst_results.keys()\n",
    "burst_results['v_m'].std()"
   ]
  },
  {
   "cell_type": "markdown",
   "metadata": {},
   "source": [
    "## Visualize input\n",
    "\n",
    "### Stim"
   ]
  },
  {
   "cell_type": "code",
   "execution_count": null,
   "metadata": {},
   "outputs": [],
   "source": [
    "times, rates = bin_times(ts_in, (0, 20), 5e-3)\n",
    "\n",
    "fig, ax = plt.subplots(1, sharex=True, figsize=(10, 3))\n",
    "_ = ax.plot(ts_in, ns_in, \n",
    "               markersize=1.5, marker='o', linestyle='', color='k', label='Stimulus')\n",
    "_ = ax.plot(times, rates, color='k', linewidth=1)\n",
    "_ = ax.set_ylabel(\"M\")\n",
    "_ = ax.legend(loc='center left', bbox_to_anchor=(.9, 0.5), frameon=False)\n",
    "_ = ax.set_xlim(0, 20)\n",
    "_ = ax.set_ylim(0, 100)\n",
    "sns.despine()"
   ]
  },
  {
   "cell_type": "markdown",
   "metadata": {},
   "source": [
    "### Oscillations"
   ]
  },
  {
   "cell_type": "code",
   "execution_count": null,
   "metadata": {},
   "outputs": [],
   "source": [
    "fig, ax = plt.subplots(2, sharex=True, sharey=True, figsize=(10, 7))\n",
    "\n",
    "times, rates = bin_times(ts_tonic, (0, 20), 5e-3)\n",
    "_ = ax[0].plot(ts_tonic, ns_tonic, \n",
    "               markersize=2, marker='o', linestyle='', color='k', label='Tonic')\n",
    "_ = ax[0].plot(times, rates, color='k', linewidth=1)\n",
    "_ = ax[0].set_ylabel(\"M\")\n",
    "_ = ax[0].legend(loc='center left', bbox_to_anchor=(.9, 0.5), frameon=False)\n",
    "_ = ax[0].set_ylim(0, 100)\n",
    "\n",
    "times, rates = bin_times(ts_burst, (0, 20), 5e-3)\n",
    "_ = ax[1].plot(ts_burst, ns_burst, \n",
    "               markersize=1, marker='o', linestyle='', color='#c1840e', label='Burst')\n",
    "_ = ax[1].plot(times, rates, color='#c1840e', linewidth=1)\n",
    "_ = ax[1].set_xlabel(\"Time (s)\")\n",
    "_ = ax[1].set_ylabel(\"M\")\n",
    "_ = ax[1].set_xlim(0, 20)\n",
    "_ = ax[1].set_ylim(0, 100)\n",
    "\n",
    "_ = ax[1].legend(loc='center left', bbox_to_anchor=(0.9, 0.5), frameon=False)\n",
    "\n",
    "# plt.tight_layout()\n",
    "sns.despine()"
   ]
  },
  {
   "cell_type": "markdown",
   "metadata": {},
   "source": [
    "### Subpanels"
   ]
  },
  {
   "cell_type": "code",
   "execution_count": null,
   "metadata": {},
   "outputs": [],
   "source": [
    "# plt.figure()\n",
    "fig, ax = plt.subplots(1, sharex=True, figsize=(2, 3))\n",
    "\n",
    "times, rates = bin_times(ts_tonic, (0, 20), 5e-3)\n",
    "_ = ax.plot(ts_tonic, ns_tonic, \n",
    "               markersize=3, marker='o', linestyle='', color='k')\n",
    "_ = ax.plot(times, rates, color=\"k\", linewidth=3)\n",
    "_ = ax.set_yticklabels([])\n",
    "_ = ax.set_xlim(19, 20.0)\n",
    "_ = ax.set_ylim(0, 100)\n",
    "sns.despine()"
   ]
  },
  {
   "cell_type": "code",
   "execution_count": null,
   "metadata": {},
   "outputs": [],
   "source": [
    "# plt.figure()\n",
    "times, rates = bin_times(ts_burst, (0, 20), 5e-3)\n",
    "\n",
    "fig, ax = plt.subplots(1, sharex=True, figsize=(2, 3))\n",
    "_ = ax.plot(ts_burst, ns_burst, \n",
    "               markersize=3, marker='o', linestyle='', color='#c1840e')\n",
    "_ = ax.plot(times, rates, color=\"#c1840e\", linewidth=3)\n",
    "_ = ax.set_yticklabels([])\n",
    "_ = ax.set_xlim(19, 20.0)\n",
    "_ = ax.set_ylim(0, 100)\n",
    "sns.despine()"
   ]
  },
  {
   "cell_type": "markdown",
   "metadata": {},
   "source": [
    "## Visualize output - traces"
   ]
  },
  {
   "cell_type": "markdown",
   "metadata": {},
   "source": [
    "### Vm"
   ]
  },
  {
   "cell_type": "code",
   "execution_count": null,
   "metadata": {},
   "outputs": [],
   "source": [
    "n = N - 1\n",
    "\n",
    "plt.figure()\n",
    "fig, ax = plt.subplots(2, sharex=True, figsize=(10, 7))\n",
    "\n",
    "# Vm\n",
    "t = tonic_results['times']\n",
    "v = tonic_results['v_m'][n, :]*1e3\n",
    "_ = ax[0].plot(t, v, linestyle='-', linewidth=1.5, color='k', alpha=0.9)\n",
    "_ = ax[0].set_ylabel(\"$V$ (mV)\")\n",
    "_ = ax[0].set_ylim(-100, 40)\n",
    "\n",
    "# Vm\n",
    "t = burst_results['times']\n",
    "v = burst_results['v_m'][n, :]*1e3\n",
    "_ = ax[1].plot(t, v, linestyle='-', linewidth=1.5, color='#c1840e', alpha=0.9)\n",
    "_ = ax[1].set_ylabel(\"$V$ (mV)\")\n",
    "_ = ax[1].set_ylim(-100, 40)\n",
    "sns.despine()"
   ]
  },
  {
   "cell_type": "markdown",
   "metadata": {},
   "source": [
    "### Ca"
   ]
  },
  {
   "cell_type": "code",
   "execution_count": null,
   "metadata": {},
   "outputs": [],
   "source": [
    "n = N - 1\n",
    "ca_target = 0.00\n",
    "\n",
    "plt.figure()\n",
    "fig, ax = plt.subplots(2, sharex=True, figsize=(10, 7))\n",
    "# Tonic\n",
    "t = tonic_results['times']\n",
    "v = tonic_results['calcium'][n, :]\n",
    "_ = ax[0].plot(t, v, linestyle='-', linewidth=4, color='k', alpha=0.9)\n",
    "_ = ax[0].plot(t, np.repeat(ca_target, v.size), \n",
    "               linestyle='--', linewidth=6, color='black', alpha=0.9)\n",
    "_ = ax[0].set_ylabel(\"$Ca$ (mM)\")\n",
    "\n",
    "# Burst\n",
    "t = burst_results['times']\n",
    "v = burst_results['calcium'][n, :]\n",
    "_ = ax[1].plot(t, v, linestyle='-', linewidth=4, color='#c1840e', alpha=0.9)\n",
    "_ = ax[1].plot(t, np.repeat(ca_target, v.size), \n",
    "               linestyle='--', linewidth=6, color='k', alpha=0.9)\n",
    "_ = ax[1].set_ylabel(\"$Ca$ (mM)\")\n",
    "\n",
    "sns.despine()"
   ]
  },
  {
   "cell_type": "markdown",
   "metadata": {},
   "source": [
    "#### Conductances"
   ]
  },
  {
   "cell_type": "code",
   "execution_count": null,
   "metadata": {},
   "outputs": [],
   "source": [
    "n = N - 1\n",
    "\n",
    "plt.figure()\n",
    "fig, ax = plt.subplots(2, sharex=True, figsize=(12, 7.5))\n",
    "\n",
    "\n",
    "# Tonic\n",
    "t = tonic_results['times']\n",
    "v1 = tonic_results['g_KCa'][n, :]\n",
    "v2 = tonic_results['g_K'][n, :]\n",
    "v3 = tonic_results['g_Na'][n, :]\n",
    "_ = ax[0].semilogy(t, v1, linestyle='dashed', linewidth=4, color='black', alpha=1, label=\"g_KCa\")\n",
    "_ = ax[0].semilogy(t, v2, linestyle='dotted', linewidth=5, color='black', alpha=1, label=\"g_K\")\n",
    "_ = ax[0].semilogy(t, v3, linestyle='solid', linewidth=4, color='black', alpha=1, label=\"g_Na\")\n",
    "# _ = ax[0].set_xlabel(\"Time (s)\")\n",
    "_ = ax[0].set_ylabel(\"Conductance\\n(mS)\")\n",
    "_ = ax[0].set_ylim(1e-3, 1e0)\n",
    "_ = ax[0].legend(loc='center left', bbox_to_anchor=(1, 0.5), frameon=False)\n",
    "\n",
    "# Burst\n",
    "t = tonic_results['times']\n",
    "v1 = burst_results['g_KCa'][n, :]\n",
    "v2 = burst_results['g_K'][n, :]\n",
    "v3 = burst_results['g_Na'][n, :]\n",
    "_ = ax[1].semilogy(t, v1, linestyle='dashed', linewidth=4, color='#c1840e', alpha=1, label=\"g_KCa\")\n",
    "_ = ax[1].semilogy(t, v2, linestyle='dotted', linewidth=5, color='#c1840e', alpha=1, label=\"g_K\")\n",
    "_ = ax[1].semilogy(t, v3, linestyle='solid', linewidth=4, color='#c1840e', alpha=1, label=\"g_Na\")\n",
    "_ = ax[1].set_xlabel(\"Time (s)\")\n",
    "_ = ax[1].set_ylabel(\"Conductance\\n(mS)\")\n",
    "_ = ax[1].set_ylim(1e-3, 1e0)\n",
    "_ = ax[1].legend(loc='center left', bbox_to_anchor=(1, 0.5), frameon=False)\n",
    "\n",
    "sns.despine()"
   ]
  }
 ],
 "metadata": {
  "kernelspec": {
   "display_name": "Python 3",
   "language": "python",
   "name": "python3"
  },
  "language_info": {
   "codemirror_mode": {
    "name": "ipython",
    "version": 3
   },
   "file_extension": ".py",
   "mimetype": "text/x-python",
   "name": "python",
   "nbconvert_exporter": "python",
   "pygments_lexer": "ipython3",
   "version": "3.7.0"
  }
 },
 "nbformat": 4,
 "nbformat_minor": 2
}
